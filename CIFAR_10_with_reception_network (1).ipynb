{
  "nbformat": 4,
  "nbformat_minor": 0,
  "metadata": {
    "colab": {
      "name": "CIFAR 10 with reception network.ipynb",
      "provenance": []
    },
    "kernelspec": {
      "name": "python3",
      "display_name": "Python 3"
    },
    "language_info": {
      "name": "python"
    },
    "accelerator": "GPU",
    "gpuClass": "standard"
  },
  "cells": [
    {
      "cell_type": "code",
      "source": [
        "import tensorflow as tf\n",
        "from tensorflow import keras\n",
        "from tensorflow.keras.applications.inception_v3 import InceptionV3\n",
        "from tensorflow.keras.applications.inception_v3 import preprocess_input, decode_predictions"
      ],
      "metadata": {
        "id": "-1CJKqGpFN5S"
      },
      "execution_count": 1,
      "outputs": []
    },
    {
      "cell_type": "code",
      "source": [
        "batch_size=32\n",
        "buffer_size=1000"
      ],
      "metadata": {
        "id": "MwArVWGwFeKX"
      },
      "execution_count": 2,
      "outputs": []
    },
    {
      "cell_type": "markdown",
      "source": [
        "It is a time to download the CIFAR-10 data and there will be a need to declare 10 categories to reference when saving the images later on."
      ],
      "metadata": {
        "id": "ck6Qp9VqFkVW"
      }
    },
    {
      "cell_type": "code",
      "source": [
        "(x_train, y_train), (x_test,y_test) = tf.keras.datasets.cifar10.load_data()\n",
        "objects = ['airplane', 'automobile', 'bird', 'cat', 'deer',\n",
        "           'dog', 'frog', 'horse', 'ship', 'truck']\n"
      ],
      "metadata": {
        "colab": {
          "base_uri": "https://localhost:8080/"
        },
        "id": "IYmdlhbDFtZw",
        "outputId": "b944436e-708b-4bb5-be4e-51655de5d75e"
      },
      "execution_count": 3,
      "outputs": [
        {
          "output_type": "stream",
          "name": "stdout",
          "text": [
            "Downloading data from https://www.cs.toronto.edu/~kriz/cifar-10-python.tar.gz\n",
            "170500096/170498071 [==============================] - 13s 0us/step\n",
            "170508288/170498071 [==============================] - 13s 0us/step\n"
          ]
        }
      ]
    },
    {
      "cell_type": "code",
      "source": [
        "# We will initialize the data pipeline for the train and test datasets\n",
        "dataset_train = tf.data.Dataset.from_tensor_slices((x_train, y_train))\n",
        "dataset_test = tf.data.Dataset.from_tensor_slices((x_test, y_test))"
      ],
      "metadata": {
        "id": "EmPjXWBHGQHJ"
      },
      "execution_count": 4,
      "outputs": []
    },
    {
      "cell_type": "markdown",
      "source": [
        "Inception v3 is pretrained on the imageNet dataset so the CIFAR-10 images must match the format of these images. The width and height expected should be no smaller than 75. So there will be a need to resize our images to 75 x 75 spatial size. Then the images should be normalized and then there will be a need to apply the inception preprocessing task."
      ],
      "metadata": {
        "id": "hzcngXr-GkBJ"
      }
    },
    {
      "cell_type": "code",
      "source": [
        "def preprocess_cifar10(img, label):\n",
        "    img = tf.cast(img, tf.float32)\n",
        "    img = tf.image.resize(img, (75, 75))\n",
        "    return tf.keras.applications.inception_v3.preprocess_input(img) , label\n",
        "dataset_train_processed = dataset_train.shuffle(buffer_size).batch(batch_size).map(preprocess_cifar10)\n",
        "dataset_test_processed = dataset_test.batch(batch_size).map(preprocess_cifar10)\n"
      ],
      "metadata": {
        "id": "8CDQuDcbHM9L"
      },
      "execution_count": 5,
      "outputs": []
    },
    {
      "cell_type": "markdown",
      "source": [
        "Now we will create our model based on the inceptionV3 model. There will be a need to load InceptionV3 model using tensorflow_keras.application API. This API will contain pretrained deep learning models that can be used for prediction, feature extraction and fine-tuning. There will be a need to load weights without the classification head."
      ],
      "metadata": {
        "id": "hrNQzKPeH-sm"
      }
    },
    {
      "cell_type": "code",
      "source": [
        "inception_model = InceptionV3(\n",
        "    include_top=False,\n",
        "    weights=\"imagenet\",\n",
        "    input_shape=(75,75,3)\n",
        ")\n"
      ],
      "metadata": {
        "colab": {
          "base_uri": "https://localhost:8080/"
        },
        "id": "5Tq1olHlIiNF",
        "outputId": "60f24409-652b-4c12-e630-a192f8239755"
      },
      "execution_count": 6,
      "outputs": [
        {
          "output_type": "stream",
          "name": "stdout",
          "text": [
            "Downloading data from https://storage.googleapis.com/tensorflow/keras-applications/inception_v3/inception_v3_weights_tf_dim_ordering_tf_kernels_notop.h5\n",
            "87916544/87910968 [==============================] - 0s 0us/step\n",
            "87924736/87910968 [==============================] - 0s 0us/step\n"
          ]
        }
      ]
    },
    {
      "cell_type": "code",
      "source": [
        "# Build our model on top of the InceptionV3 model by adding a classifier with 3 fully connected layers\n",
        "x = inception_model.output\n",
        "x= keras.layers.GlobalAveragePooling2D()(x)\n",
        "x = keras.layers.Dense(1024, activation=\"relu\")(x)\n",
        "x = keras.layers.Dense(128, activation=\"relu\")(x)\n",
        "output = keras.layers.Dense(10, activation=\"softmax\")(x)\n",
        "model=keras.Model(inputs=inception_model.input, outputs = output)"
      ],
      "metadata": {
        "id": "50A6PR6YIxwk"
      },
      "execution_count": 7,
      "outputs": []
    },
    {
      "cell_type": "markdown",
      "source": [
        "The next step is to set the base layers in Inception as not trainable. only the classifier weights will be updated during the back-probagation phase\n",
        "\n"
      ],
      "metadata": {
        "id": "SZnKNi1lJh3z"
      }
    },
    {
      "cell_type": "code",
      "source": [
        "for inception_layer in inception_model.layers:\n",
        "    inception_layer.trainable= False"
      ],
      "metadata": {
        "id": "OEZP7axNJg0Z"
      },
      "execution_count": 8,
      "outputs": []
    },
    {
      "cell_type": "markdown",
      "source": [
        "The next step is to compile the model. The loss will be categorical cross-entropy loss. There will be a need to add an accuracy matric that takes the predicted logits from the model and the actual targets and returns the accuracy for recording statistics on the train/test sets."
      ],
      "metadata": {
        "id": "YaV7UhTEKAN1"
      }
    },
    {
      "cell_type": "code",
      "source": [
        "# Compile the mode\n",
        "model.compile(optimizer=\"adam\", loss=\"sparse_categorical_crossentropy\", metrics=[\"accuracy\"])"
      ],
      "metadata": {
        "id": "Xnr42qroJ8KM"
      },
      "execution_count": 9,
      "outputs": []
    },
    {
      "cell_type": "code",
      "source": [
        "# fit the model, looping through the training and test input pipelines\n",
        "model.fit(x=dataset_train_processed, validation_data = dataset_test_processed)"
      ],
      "metadata": {
        "colab": {
          "base_uri": "https://localhost:8080/"
        },
        "id": "_2cdoPscKrRv",
        "outputId": "fda17675-0edb-4a10-8e01-b96084c5df2b"
      },
      "execution_count": 10,
      "outputs": [
        {
          "output_type": "stream",
          "name": "stdout",
          "text": [
            "1563/1563 [==============================] - 52s 23ms/step - loss: 1.1368 - accuracy: 0.6005 - val_loss: 1.0305 - val_accuracy: 0.6380\n"
          ]
        },
        {
          "output_type": "execute_result",
          "data": {
            "text/plain": [
              "<keras.callbacks.History at 0x7f1c306b3610>"
            ]
          },
          "metadata": {},
          "execution_count": 10
        }
      ]
    },
    {
      "cell_type": "markdown",
      "source": [
        "# Explaination\n",
        "The CIFAR-10 data is downloaed. After that we did established an image pipeline to convert the images into the requeired Inception format. A classifier is added on top of the InceptionV3 model and it is trained to predict the correct category of the CIFAR-10 images. At the end the model did achieve 60% accuracy on te test set. \n",
        "\n",
        "Note that, we are fine-tuning the model and retraning the fully connected layers at the top to fit the 10-category data."
      ],
      "metadata": {
        "id": "d899BRFpIgVt"
      }
    }
  ]
}