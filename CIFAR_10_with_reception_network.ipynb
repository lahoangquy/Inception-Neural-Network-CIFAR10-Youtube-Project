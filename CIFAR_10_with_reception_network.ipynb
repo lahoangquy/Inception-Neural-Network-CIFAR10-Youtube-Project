{
  "nbformat": 4,
  "nbformat_minor": 0,
  "metadata": {
    "colab": {
      "name": "CIFAR 10 with reception network.ipynb",
      "provenance": []
    },
    "kernelspec": {
      "name": "python3",
      "display_name": "Python 3"
    },
    "language_info": {
      "name": "python"
    }
  },
  "cells": [
    {
      "cell_type": "code",
      "source": [
        "import tensorflow as tf\n",
        "from tensorflow import keras\n",
        "from tensorflow.keras.applications.inception_v3 import InceptionV3\n",
        "from tensorflow.keras.applications.inception_v3 import preprocess_input, decode_predictions"
      ],
      "metadata": {
        "id": "-1CJKqGpFN5S"
      },
      "execution_count": 1,
      "outputs": []
    },
    {
      "cell_type": "code",
      "source": [
        "batch_size=32\n",
        "buffer_size=1000"
      ],
      "metadata": {
        "id": "MwArVWGwFeKX"
      },
      "execution_count": 2,
      "outputs": []
    },
    {
      "cell_type": "markdown",
      "source": [
        "It is a time to download the CIFAR-10 data and there will be a need to declare 10 categories to reference when saving the images later on."
      ],
      "metadata": {
        "id": "ck6Qp9VqFkVW"
      }
    },
    {
      "cell_type": "code",
      "source": [
        "(x_train, y_train), (x_test,y_test) = tf.keras.datasets.cifar10.load_data()\n",
        "objects = ['airplane', 'automobile', 'bird', 'cat', 'deer',\n",
        "           'dog', 'frog', 'horse', 'ship', 'truck']\n"
      ],
      "metadata": {
        "colab": {
          "base_uri": "https://localhost:8080/"
        },
        "id": "IYmdlhbDFtZw",
        "outputId": "d7153d75-0589-443d-820b-a09bde587700"
      },
      "execution_count": 3,
      "outputs": [
        {
          "output_type": "stream",
          "name": "stdout",
          "text": [
            "Downloading data from https://www.cs.toronto.edu/~kriz/cifar-10-python.tar.gz\n",
            "170500096/170498071 [==============================] - 3s 0us/step\n",
            "170508288/170498071 [==============================] - 3s 0us/step\n"
          ]
        }
      ]
    },
    {
      "cell_type": "code",
      "source": [
        "# We will initialize the data pipeline for the train and test datasets\n",
        "dataset_train = tf.data.Dataset.from_tensor_slices((x_train, y_train))\n",
        "dataset_test = tf.data.Dataset.from_tensor_slices((x_test, y_test))"
      ],
      "metadata": {
        "id": "EmPjXWBHGQHJ"
      },
      "execution_count": 4,
      "outputs": []
    },
    {
      "cell_type": "markdown",
      "source": [
        "Inception v3 is pretrained on the imageNet dataset so the CIFAR-10 images must match the format of these images. The width and height expected should be no smaller than 75. So there will be a need to resize our images to 75 x 75 spatial size. Then the images should be normalized and then there will be a need to apply the inception preprocessing task."
      ],
      "metadata": {
        "id": "hzcngXr-GkBJ"
      }
    }
  ]
}